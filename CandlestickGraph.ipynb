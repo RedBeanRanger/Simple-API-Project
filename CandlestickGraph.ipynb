{
    "cells": [
        {
            "cell_type": "markdown",
            "metadata": {
                "collapsed": true
            },
            "source": "## Candlestick Graph Using CoinGecko API"
        },
        {
            "cell_type": "markdown",
            "metadata": {},
            "source": "Made for IBM Python for Data Science Course"
        },
        {
            "cell_type": "code",
            "execution_count": null,
            "metadata": {},
            "outputs": [
                {
                    "name": "stdout",
                    "output_type": "stream",
                    "text": "Requirement already satisfied: pycoingecko in /opt/conda/envs/Python-3.8-main/lib/python3.8/site-packages (2.2.0)\nRequirement already satisfied: requests in /opt/conda/envs/Python-3.8-main/lib/python3.8/site-packages (from pycoingecko) (2.25.1)\nRequirement already satisfied: certifi>=2017.4.17 in /opt/conda/envs/Python-3.8-main/lib/python3.8/site-packages (from requests->pycoingecko) (2021.10.8)\nRequirement already satisfied: idna<3,>=2.5 in /opt/conda/envs/Python-3.8-main/lib/python3.8/site-packages (from requests->pycoingecko) (2.8)\nRequirement already satisfied: chardet<5,>=3.0.2 in /opt/conda/envs/Python-3.8-main/lib/python3.8/site-packages (from requests->pycoingecko) (3.0.4)\nRequirement already satisfied: urllib3<1.27,>=1.21.1 in /opt/conda/envs/Python-3.8-main/lib/python3.8/site-packages (from requests->pycoingecko) (1.26.6)\nRequirement already satisfied: plotly in /opt/conda/envs/Python-3.8-main/lib/python3.8/site-packages (4.14.3)\nRequirement already satisfied: six in /opt/conda/envs/Python-3.8-main/lib/python3.8/site-packages (from plotly) (1.15.0)\nRequirement already satisfied: retrying>=1.3.3 in /opt/conda/envs/Python-3.8-main/lib/python3.8/site-packages (from plotly) (1.3.3)\n"
                }
            ],
            "source": "!pip install pycoingecko\n!pip install plotly\n!pip install mplfinance"
        },
        {
            "cell_type": "code",
            "execution_count": null,
            "metadata": {},
            "outputs": [],
            "source": "import pandas as pd\nimport numpy as np\nimport plotly.graph_objects as go\nfrom plotly.offline import plot\nimport matplotlib.pyplot as plt\nimport datetime\nfrom pycoingecko import CoinGeckoAPI\nfrom mplfinance.original_flavor import candlestick2_ohlc\n\n# First, obtain necessary data\ncg = CoinGeckoAPI() # use Python wrapper for the API \nbitcoin_data = cg.get_coin_market_chart_by_id(id=\"bitcoin\", \n                                           vs_currency=\"usd\", \n                                           days=30)\n\n# type(bitcoin_data) # will return that bitcoin_data is a dictionary\n\n\n# Next, we will obtain the prices of the bitcoin, and turn price data into a Pandas DataFrame\nbitcoin_price_data = bitcoin_data[\"prices\"]\ndata = pd.DataFrame(bitcoin_price_data, columns=[\"TimeStamp\", \"Price\"])\n# print(data) # for debugging purposes\ndata['date'] = data['TimeStamp'].apply(lambda d: datetime.date.fromtimestamp(d/1000.0)) # convert timestamps into datetimes\n\n# Group data by date\ncandlestick_data = data.groupby(data.date, as_index = False).agg({\"Price\": [\"min\", \"max\", \"first\", \"last\"]})\n\n# Create candlestick chart using pyplot graph objects\nfig = go.Figure(data = [go.Candlestick(x=candlestick_data[\"date\"], open = candlestick_data[\"Price\"][\"first\"], high = candlestick_data[\"Price\"][\"max\"], low = candlestick_data[\"Price\"][\"min\"], close = candlestick_data[\"Price\"][\"last\"])])\nfig.update_layout(xaxis_rangeslider_visible = False)\nfig.show()"
        },
        {
            "cell_type": "code",
            "execution_count": null,
            "metadata": {},
            "outputs": [],
            "source": ""
        }
    ],
    "metadata": {
        "kernelspec": {
            "display_name": "Python 3.8",
            "language": "python",
            "name": "python3"
        },
        "language_info": {
            "codemirror_mode": {
                "name": "ipython",
                "version": 3
            },
            "file_extension": ".py",
            "mimetype": "text/x-python",
            "name": "python",
            "nbconvert_exporter": "python",
            "pygments_lexer": "ipython3",
            "version": "3.8.12"
        }
    },
    "nbformat": 4,
    "nbformat_minor": 1
}